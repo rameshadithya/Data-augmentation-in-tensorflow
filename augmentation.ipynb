{
  "nbformat": 4,
  "nbformat_minor": 0,
  "metadata": {
    "colab": {
      "name": "augmentation.ipynb",
      "provenance": []
    },
    "kernelspec": {
      "name": "python3",
      "display_name": "Python 3"
    },
    "language_info": {
      "name": "python"
    }
  },
  "cells": [
    {
      "cell_type": "code",
      "metadata": {
        "id": "oqM7k_lNgBJw"
      },
      "source": [
        "import os\n",
        "import numpy as np\n",
        "import cv2\n",
        "from glob import glob\n",
        "from tqdm import tqdm \n",
        "import imageio\n",
        "from albumentations import HorizontalFlip, VerticalFlip, ElasticTransform, OpticalDistortion"
      ],
      "execution_count": 4,
      "outputs": []
    },
    {
      "cell_type": "code",
      "metadata": {
        "id": "yqjOJ2n5hSjQ"
      },
      "source": [
        "def createdir(path):\n",
        "  if (not os.path.exists(path)):\n",
        "    os.mkdir(path)"
      ],
      "execution_count": 5,
      "outputs": []
    },
    {
      "cell_type": "code",
      "metadata": {
        "id": "ZOsUcP41h3Le"
      },
      "source": [
        "def load_data(path):\n",
        "  train_x= sorted(glob(os.path.join(psth, \"Training\", \"\"  \"*.tif\")))\n",
        "  train_y= sorted(glob(os.path.join(path, \"Training\", \"\", \"*.gif\")))\n",
        "\n",
        "  test_x= sorted(glob(os.path.join(psth, \"testing\", \"\"  \"*.tif\")))\n",
        "  test_y= sorted(glob(os.path.join(path, \"testing\", \"\", \"*.gif\")))\n",
        "\n",
        "  return (train_x, train_y), (test_x, test_y)\n",
        "  "
      ],
      "execution_count": 6,
      "outputs": []
    },
    {
      "cell_type": "code",
      "metadata": {
        "id": "qQukhrnJjP8F"
      },
      "source": [
        "def augment_data(images, masks, save_path, augment=True):\n",
        "\n",
        "  # specify the dimensions of the image #\n",
        "  h= 224\n",
        "  w= 224\n",
        "\n",
        "  for idx, (x, y) in tqdm(enumerate(zip(images, masks)), total=len(images)):\n",
        "\n",
        "    # extracting names #\n",
        "    name= x.split(\"/\")[-1].split(\".\")[0]\n",
        "\n",
        "    # The above code is specific to the dataset used, and must be used accordingly #\n",
        "\n",
        "    # Reading images and masks #\n",
        "    \n",
        "    x= cv2.imread(x, cv2.IMREAD_COLOR)\n",
        "    y= imageio.mimread(y)[0] #used imageio since the masks are ing gif format #\n",
        "\n",
        "    if augment== True :\n",
        "      aug = HorizontalFlip(p=1.0)\n",
        "      augmented= aug(image=x ,mask=y)\n",
        "      x1 = augmented[\"image\"]\n",
        "      y1 = augmented[\"mask\"]\n",
        "\n",
        "      aug = VerticalFlip(p=1.0)\n",
        "      augmented= aug(image=x ,mask=y)\n",
        "      x2 = augmented[\"image\"]\n",
        "      y2 = augmented[\"mask\"]\n",
        "\n",
        "      aug = ElasticTransform(p=1, alpha=120*0.05, alpha_affine=120*0.03)\n",
        "      augmented= aug(image=x ,mask=y)\n",
        "      x3 = augmented[\"image\"]\n",
        "      y3 = augmented[\"mask\"]\n",
        "\n",
        "      aug = OpticalDistortion(p=1, distort_limit=2, shift_limit=0.5)\n",
        "      augmented= aug(image=x ,mask=y)\n",
        "      x4 = augmented[\"image\"]\n",
        "      y4 = augmented[\"mask\"]\n",
        "\n",
        "      X= [x, x1, x2, x3, x4]\n",
        "      Y= [y, y1, y2, y3, y4]\n",
        "\n",
        "      else:\n",
        "        X=[x]\n",
        "        Y=[y]\n",
        "\n",
        "      index= 0\n",
        "      for i, m in zip(X, Y):\n",
        "            i = cv2.resize(i, (W, H))\n",
        "            m = cv2.resize(m, (W, H))\n",
        "\n",
        "            if len(X) == 1:\n",
        "                tmp_image_name = f\"{name}.jpg\"\n",
        "                tmp_mask_name = f\"{name}.jpg\"\n",
        "            else:\n",
        "                tmp_image_name = f\"{name}_{index}.jpg\"\n",
        "                tmp_mask_name = f\"{name}_{index}.jpg\"\n",
        "\n",
        "            image_path = os.path.join(save_path, \"image\", tmp_image_name)\n",
        "            mask_path = os.path.join(save_path, \"mask\", tmp_mask_name)\n",
        "\n",
        "            cv2.imwrite(image_path, i)\n",
        "            cv2.imwrite(mask_path, m)\n",
        "\n",
        "            index += 1       \n"
      ],
      "execution_count": null,
      "outputs": []
    }
  ]
}